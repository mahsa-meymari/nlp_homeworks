{
  "nbformat": 4,
  "nbformat_minor": 0,
  "metadata": {
    "colab": {
      "name": "problem4.ipynb",
      "provenance": [],
      "collapsed_sections": [],
      "toc_visible": true
    },
    "kernelspec": {
      "name": "python3",
      "display_name": "Python 3"
    }
  },
  "cells": [
    {
      "cell_type": "code",
      "metadata": {
        "id": "yh_ftvvHYOkO",
        "colab_type": "code",
        "colab": {}
      },
      "source": [
        "import os\n",
        "\n",
        "script_dir =os.path.abspath('')\n",
        "\n",
        "rel_path = '../in/in_3.txt'\n",
        "in_addr = os.path.join(script_dir, rel_path)\n",
        "\n",
        "rel_path = \"../out/out_3.txt\"\n",
        "out_addr = os.path.join(script_dir, rel_path)"
      ],
      "execution_count": 0,
      "outputs": []
    },
    {
      "cell_type": "code",
      "metadata": {
        "id": "QfXf2peBSdvE",
        "colab_type": "code",
        "colab": {}
      },
      "source": [
        "f = open('words_alpha.txt')\n",
        "content = f.read()\n",
        "dictionary = content.split('\\n')"
      ],
      "execution_count": 0,
      "outputs": []
    },
    {
      "cell_type": "code",
      "metadata": {
        "id": "2dtwElXHSxoR",
        "colab_type": "code",
        "colab": {}
      },
      "source": [
        " def editDistDP(str1, str2, m, n): \n",
        "    dp = [[0 for x in range(n+1)] for x in range(m+1)]\n",
        "    \n",
        "    for i in range(m + 1): \n",
        "        for j in range(n + 1): \n",
        "            # If one string is empty, only option is to \n",
        "            # insert all characters of other string \n",
        "            if i == 0: \n",
        "                dp[i][j] = j    # Min. operations = j \n",
        "            elif j == 0: \n",
        "                dp[i][j] = i    # Min. operations = i \n",
        "  \n",
        "            # If last characters are same, ignore last char \n",
        "            # and recur for remaining string \n",
        "            elif str1[i-1] == str2[j-1]: \n",
        "                dp[i][j] = dp[i-1][j-1] \n",
        "  \n",
        "            # If last character are different, consider all \n",
        "            # possibilities and find minimum \n",
        "            else: \n",
        "                dp[i][j] = 1 + min(dp[i][j-1],        # Insert \n",
        "                                   dp[i-1][j],        # Remove \n",
        "                                   dp[i-1][j-1])    # Replace \n",
        "  \n",
        "    return dp[m][n] "
      ],
      "execution_count": 0,
      "outputs": []
    },
    {
      "cell_type": "code",
      "metadata": {
        "id": "iZ8iwQZ7S8iA",
        "colab_type": "code",
        "outputId": "fa794975-d0ed-4bc1-bd03-56e10e060efc",
        "colab": {
          "base_uri": "https://localhost:8080/",
          "height": 34
        }
      },
      "source": [
        "inp_file = open(in_addr)\n",
        "inp = inp_file.read()\n",
        "print(inp)"
      ],
      "execution_count": 0,
      "outputs": [
        {
          "output_type": "stream",
          "text": [
            "bloe\n"
          ],
          "name": "stdout"
        }
      ]
    },
    {
      "cell_type": "code",
      "metadata": {
        "id": "2Ip8mVtuTwfd",
        "colab_type": "code",
        "colab": {}
      },
      "source": [
        "possible_answers = {}\n",
        "for word in dictionary:\n",
        "  if word[0]==inp[0]:\n",
        "    md = editDistDP(word,inp,len(word),len(inp))\n",
        "    possible_answers[word]=md"
      ],
      "execution_count": 0,
      "outputs": []
    },
    {
      "cell_type": "code",
      "metadata": {
        "id": "wqtyubTYVC1d",
        "colab_type": "code",
        "outputId": "884051d8-e6da-498e-e58d-108f3862fbc9",
        "colab": {
          "base_uri": "https://localhost:8080/",
          "height": 85
        }
      },
      "source": [
        "import operator\n",
        "sorted_possible_answers = sorted(possible_answers.items(), key=operator.itemgetter(1))\n",
        "answer = [i[0] for i in sorted_possible_answers[:3]]\n",
        "file_out=open(out_addr,'w')\n",
        "for word in answer:\n",
        "  file_out.write(word+'\\n')\n",
        "file_out=open(out_addr,'r')\n",
        "print(file_out.read())"
      ],
      "execution_count": 0,
      "outputs": [
        {
          "output_type": "stream",
          "text": [
            "blae\n",
            "blee\n",
            "blo\n",
            "\n"
          ],
          "name": "stdout"
        }
      ]
    }
  ]
}