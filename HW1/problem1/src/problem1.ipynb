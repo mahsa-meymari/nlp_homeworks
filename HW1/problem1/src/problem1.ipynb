{
  "nbformat": 4,
  "nbformat_minor": 0,
  "metadata": {
    "colab": {
      "name": "problem1",
      "provenance": [],
      "collapsed_sections": [],
      "toc_visible": true
    },
    "kernelspec": {
      "name": "python3",
      "display_name": "Python 3"
    }
  },
  "cells": [
    {
      "cell_type": "markdown",
      "metadata": {
        "id": "dd_VLR3ARTYd",
        "colab_type": "text"
      },
      "source": [
        "**reading csv file and save it in a dictionary that it's keys are writing form and  it's values are reading form**"
      ]
    },
    {
      "cell_type": "code",
      "metadata": {
        "id": "Sv1amK7c7fPm",
        "colab_type": "code",
        "colab": {}
      },
      "source": [
        "import os\n",
        "\n",
        "script_dir =os.path.abspath('')\n",
        "\n",
        "rel_path = '../in/in_5.txt'\n",
        "in_addr = os.path.join(script_dir, rel_path)\n",
        "\n",
        "rel_path = \"../out/out_5.txt\"\n",
        "out_addr = os.path.join(script_dir, rel_path)"
      ],
      "execution_count": 0,
      "outputs": []
    },
    {
      "cell_type": "code",
      "metadata": {
        "id": "Ol2RiYBTK0_M",
        "colab_type": "code",
        "colab": {}
      },
      "source": [
        "import csv\n",
        "with open('Entries.csv') as csvfile:\n",
        "  reader = csv.DictReader(csvfile)\n",
        "  phoneDic = {}\n",
        "  for row in reader:\n",
        "    if row['WrittenForm'] in phoneDic:\n",
        "      phoneDic[row['WrittenForm']].append(row['PhonologicalForm'])                                                                                                                                                                                                                                                                                                                                        \n",
        "    else:\n",
        "      phoneDic[row['WrittenForm']] = [row['PhonologicalForm']]"
      ],
      "execution_count": 0,
      "outputs": []
    },
    {
      "cell_type": "markdown",
      "metadata": {
        "id": "jI0x_WBSR2J6",
        "colab_type": "text"
      },
      "source": [
        "**getting input sentence**"
      ]
    },
    {
      "cell_type": "code",
      "metadata": {
        "id": "NnTQ2NWlNlFJ",
        "colab_type": "code",
        "outputId": "1e85e5ef-9400-406e-f59b-864d7c31ae19",
        "colab": {
          "base_uri": "https://localhost:8080/",
          "height": 34
        }
      },
      "source": [
        "inp_file = open(in_addr,encoding='cp1256')\n",
        "inp = inp_file.read()\n",
        "print(inp)"
      ],
      "execution_count": 150,
      "outputs": [
        {
          "output_type": "stream",
          "text": [
            "باز باران با ترانه\n"
          ],
          "name": "stdout"
        }
      ]
    },
    {
      "cell_type": "markdown",
      "metadata": {
        "id": "knc3pVxUR1o1",
        "colab_type": "text"
      },
      "source": [
        "**convert input sentence from writing form to reading form**"
      ]
    },
    {
      "cell_type": "code",
      "metadata": {
        "id": "MwyHYDLWO4Yc",
        "colab_type": "code",
        "outputId": "f469ab63-eb0e-4b4c-a021-3d0fdd70943c",
        "colab": {
          "base_uri": "https://localhost:8080/",
          "height": 34
        }
      },
      "source": [
        "inList = inp.split(' ')\n",
        "phoneOfSentence = ['']\n",
        "\n",
        "for word in inList:\n",
        "  phoneDic[word] = list(set(phoneDic[word]))\n",
        "  numOfPhone = len(phoneDic[word])\n",
        "  phoneOfSentence*=numOfPhone\n",
        "  partSize = int( len(phoneOfSentence) / numOfPhone ) \n",
        "  for j in range(numOfPhone):\n",
        "    for i in range(partSize*j,partSize*(j+1)):\n",
        "      phoneOfSentence[i]+=phoneDic[word][j]\n",
        "\n",
        "print(phoneOfSentence)"
      ],
      "execution_count": 140,
      "outputs": [
        {
          "output_type": "stream",
          "text": [
            "['bAzbArAnbAtarAne']\n"
          ],
          "name": "stdout"
        }
      ]
    },
    {
      "cell_type": "markdown",
      "metadata": {
        "id": "MXMlV9xcSYcd",
        "colab_type": "text"
      },
      "source": [
        "**some helpful function to detect if a sound is a word or not and detect the writing form from reading form**"
      ]
    },
    {
      "cell_type": "code",
      "metadata": {
        "id": "j3Ix_35FYXb3",
        "colab_type": "code",
        "colab": {}
      },
      "source": [
        "def isWord(phonetic):\n",
        "  return any(phonetic in sublist for sublist in phoneDic.values())\n",
        "\n",
        "def get_key(val): \n",
        "    for key, values in phoneDic.items(): \n",
        "         if val in values: \n",
        "             return key   \n",
        "    return \"key doesn't exist\"\n"
      ],
      "execution_count": 0,
      "outputs": []
    },
    {
      "cell_type": "markdown",
      "metadata": {
        "id": "XPzLYArlSuKn",
        "colab_type": "text"
      },
      "source": [
        "**main part:\n",
        "a recursive function which finds every single form of writing forms from reading form and returns it as a list** "
      ]
    },
    {
      "cell_type": "code",
      "metadata": {
        "id": "bWm4zSxk_Qlq",
        "colab_type": "code",
        "colab": {}
      },
      "source": [
        "def findNextWord(i,phoneSent,answer):\n",
        "  if len(phoneSent[i:])==0:\n",
        "    return answer\n",
        "  flag = False\n",
        "  sample = phoneSent[i:]\n",
        "  answersBeforeEdit = answer[-1]\n",
        "  for j in range(len(sample),0,-1):\n",
        "    if(isWord(sample[:j])):\n",
        "      if(flag):\n",
        "        answer.append(answersBeforeEdit)\n",
        "      answer[len(answer)-1]+=(get_key(sample[:j])+'-')\n",
        "      answer = findNextWord(j,sample,answer)\n",
        "      flag=True\n",
        "  if(not flag):\n",
        "        del answer[-1]\n",
        "  return answer\n"
      ],
      "execution_count": 0,
      "outputs": []
    },
    {
      "cell_type": "code",
      "metadata": {
        "id": "1gGIzltYENPn",
        "colab_type": "code",
        "colab": {}
      },
      "source": [
        "out_file = open(out_addr,'w')\n",
        "for phoneSent in phoneOfSentence:\n",
        "  ans = findNextWord(0,phoneSent,[''])\n",
        "  for row in ans:\n",
        "    out_file.write(row+'\\n')"
      ],
      "execution_count": 0,
      "outputs": []
    }
  ]
}