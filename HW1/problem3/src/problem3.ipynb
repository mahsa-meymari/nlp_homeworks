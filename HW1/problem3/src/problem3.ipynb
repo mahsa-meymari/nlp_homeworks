{
  "nbformat": 4,
  "nbformat_minor": 0,
  "metadata": {
    "colab": {
      "name": "problem3.ipynb",
      "provenance": [],
      "collapsed_sections": []
    },
    "kernelspec": {
      "name": "python3",
      "display_name": "Python 3"
    }
  },
  "cells": [
    {
      "cell_type": "code",
      "metadata": {
        "id": "yO8FSFTAMWm4",
        "colab_type": "code",
        "colab": {}
      },
      "source": [
        "import os\n",
        "\n",
        "script_dir =os.path.abspath('')\n",
        "\n",
        "rel_path = '../in/in_4.txt'\n",
        "in_addr = os.path.join(script_dir, rel_path)\n",
        "\n",
        "rel_path = \"../out/out_4.txt\"\n",
        "out_addr = os.path.join(script_dir, rel_path)"
      ],
      "execution_count": 0,
      "outputs": []
    },
    {
      "cell_type": "code",
      "metadata": {
        "id": "qhSNcOrxgs0V",
        "colab_type": "code",
        "colab": {}
      },
      "source": [
        " def editDistDP(str1, str2, m, n): \n",
        "    dp = [[0 for x in range(n+1)] for x in range(m+1)]\n",
        "    \n",
        "    for i in range(m + 1): \n",
        "        for j in range(n + 1): \n",
        "            # If one string is empty, only option is to \n",
        "            # insert all characters of other string \n",
        "            if i == 0: \n",
        "                dp[i][j] = j    # Min. operations = j \n",
        "            elif j == 0: \n",
        "                dp[i][j] = i    # Min. operations = i \n",
        "  \n",
        "            # If last characters are same, ignore last char \n",
        "            # and recur for remaining string \n",
        "            elif str1[i-1] == str2[j-1]: \n",
        "                dp[i][j] = dp[i-1][j-1] \n",
        "  \n",
        "            # If last character are different, consider all \n",
        "            # possibilities and find minimum \n",
        "            else: \n",
        "                dp[i][j] = 1 + min(dp[i][j-1],        # Insert \n",
        "                                   dp[i-1][j],        # Remove \n",
        "                                   dp[i-1][j-1])    # Replace \n",
        "  \n",
        "    return dp[m][n] "
      ],
      "execution_count": 0,
      "outputs": []
    },
    {
      "cell_type": "code",
      "metadata": {
        "id": "js2W9Em3kfbx",
        "colab_type": "code",
        "colab": {}
      },
      "source": [
        "inFile = open(in_addr)\n",
        "inps = inFile.readlines()\n",
        "outFile = open(out_addr,'w')\n",
        "outFile.write(str(editDistDP(inps[0][:-1] ,inps[1],len(inps[0][:-1]),len(inps[1]))))"
      ],
      "execution_count": 0,
      "outputs": []
    }
  ]
}