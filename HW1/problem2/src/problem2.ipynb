{
  "nbformat": 4,
  "nbformat_minor": 0,
  "metadata": {
    "colab": {
      "name": "problem2 .ipynb",
      "provenance": [],
      "collapsed_sections": [],
      "toc_visible": true
    },
    "kernelspec": {
      "name": "python3",
      "display_name": "Python 3"
    }
  },
  "cells": [
    {
      "cell_type": "code",
      "metadata": {
        "id": "e2XpLILoLPHF",
        "colab_type": "code",
        "colab": {}
      },
      "source": [
        "in_addr = '../in/in.txt'\n",
        "out_addr = '../out/out.txt'"
      ],
      "execution_count": 0,
      "outputs": []
    },
    {
      "cell_type": "code",
      "metadata": {
        "id": "J9NJci5aUu7H",
        "colab_type": "code",
        "colab": {}
      },
      "source": [
        "import re\n",
        "inFile = open(in_addr)\n",
        "outFile = open(out_addr,'w')\n",
        "for row in inFile:\n",
        "  x=re.search('^(Doctor|Dr\\.) | (M\\.D\\.)$',row)\n",
        "  if(x):\n",
        "    outFile.write(row[:-1]+' : '+str(1)+'\\n')\n",
        "  else:\n",
        "    outFile.write(row[:-1]+' : '+str(0)+'\\n')"
      ],
      "execution_count": 0,
      "outputs": []
    }
  ]
}